{
  "nbformat": 4,
  "nbformat_minor": 0,
  "metadata": {
    "colab": {
      "name": "4주차 과제(제출용)",
      "provenance": [],
      "collapsed_sections": [],
      "include_colab_link": true
    },
    "kernelspec": {
      "name": "python3",
      "display_name": "Python 3"
    }
  },
  "cells": [
    {
      "cell_type": "markdown",
      "metadata": {
        "id": "view-in-github",
        "colab_type": "text"
      },
      "source": [
        "<a href=\"https://colab.research.google.com/github/Ryon07/AI_cose/blob/master/4%EC%A3%BC%EC%B0%A8_%EA%B3%BC%EC%A0%9C(%EC%A0%9C%EC%B6%9C%EC%9A%A9).ipynb\" target=\"_parent\"><img src=\"https://colab.research.google.com/assets/colab-badge.svg\" alt=\"Open In Colab\"/></a>"
      ]
    },
    {
      "cell_type": "markdown",
      "metadata": {
        "id": "wxkL6PjwsI6L",
        "colab_type": "text"
      },
      "source": [
        "# 4주차 과제\n",
        "- 용어 정리\n",
        "- 딥러닝 강의 클론 코딩\n",
        "- 딥러닝 순전파 & 역전파 계산"
      ]
    },
    {
      "cell_type": "markdown",
      "metadata": {
        "id": "ixEtDe6_uGgI",
        "colab_type": "text"
      },
      "source": [
        "## 1. 용어 정리\n",
        "\n",
        "다음 제시된 단어의 정의(설명)를 정리하여 작성 하세요.\n",
        "\n",
        "* 2문장 이상 작성 해 주세요. \n",
        "* 주제(단어)와 크게 벗어나지만 않는다면 정답처리 됩니다.\n",
        "* 강의 뿐 아니라 기타 레퍼런스를 참고하여 작성하셔도 됩니다. (기타 레퍼런스를 참고하신 경우, 해당 레퍼런스를 정리하여 하단에 작성해 주세요.)\n"
      ]
    },
    {
      "cell_type": "markdown",
      "metadata": {
        "id": "0lfwat8eurKZ",
        "colab_type": "text"
      },
      "source": [
        "__(예시)__\n",
        "### 심층 신경망\n",
        ": 입력층과 출력층 사이에 여러 개의 은닉층들로 이뤄진 인공신경망이다. 심층 신경망은 일반적으로 인공신경망과 마찬가지로 복잡한 비선형 관계들을 모델링 할 수 있다. 신층신경망의 목적은 분류 및 수치예측을 하기 위함이고 이미지 트레이닝이나 문자인식과 같은 분야에서 매우 유용하게 쓰이고 있다."
      ]
    },
    {
      "cell_type": "markdown",
      "metadata": {
        "id": "Y8YJNKG_v65A",
        "colab_type": "text"
      },
      "source": [
        "### MCP 뉴런\n",
        ": 1943년 워랜 맥컬록과 월터 피츠가 발표한 간소화된 뇌의 뉴런 개념. 신경세포의 화학적 전기 신호를 전달하고 처리하는것을 이진출력을 내는 방법으로 표현한 방법\n",
        "\n",
        "[MCP뉴런과 퍼센트론의 이해](https://yamerong.tistory.com/43)\n",
        "### 퍼셉트론\n",
        ": 1957년 프랭크 로젠 블렛에 의해 발견된 인공 신경망. 작동원리는 입력값과 가중치를 곱한 값이 임계값을 넘으면 다음 뉴런이 활성화되는 방식으로 합성함수가 이를 판별한다.\n",
        "\n",
        "-단순하다는 장점이 있으나 선형적으로 구분되지 않는 데이터셋에는 수렴하기 어렵다는 단점이있다.\n",
        "-신경망,딥러닝의 뿌리모델이라는 점에서 역사적인 중요성이 있다.\n",
        "\n",
        "[퍼셉트론]<https://sacko.tistory.com/10>\n",
        "\n",
        "### 역전파\n",
        ": 신경망의 지도 데이터와 출력값 사이의 오차를 이용하여 순전파 방식인 입력층에서 출력층으로 가중치를 조절하는 방법이 아닌 출력층에서 입력층으로 가중치를 조정하는 방식을 말한다.\n",
        " 기존 퍼셉트론 이론을 이용하는 과정에서 'AND,OR,XOR' 문제를 만나며 난관에 봉착하는데 다중퍼셉트온의 등장으로 어느 정도 해결이 된다. \n",
        " 하지만,파라미터의 개수가 많아지면서 적절한 가중치의 편향을 학습하기 어려워 지는 문제에 다다른다. 이를 해결하고자 '역전파'알고리즘이 만들어지게 된다.\n",
        " 데이터를 변환하는 과정에서 무수히 많은 가중치가 존재하여 하나의 값을 변환하면 다중의 값이 변화하게 된다. 그래서 처음부터 가중치를 변화 시키는 것이 아닌 출력값과 예상출력값의 거리를 계산하여 그 점수를 피드백 신호로 이용 무작위 가중치 값을 조정 하여 점수가 가장 낮아지게 만드는 방법을 역전파 방식이라고 한다.\n",
        " \n",
        "\n",
        "\n",
        "[순전파와역전파]<https://sungwookkang.com/1415>\n",
        "\n",
        "### 강화학습\n",
        ":강화학습에는 환경과 에이전트(Agent)라는 요소가 있고 이 둘의 상호작용하며 이 환경에는 보상이라는 기준이 있어 다양한 시행 착오를 겪어가며 보상을 최대화 하는 방향으로 학습을 진행한다. 즉,\"보상을 최대화 하는 의사결정 전략\" 이라고 한다.\n",
        "\n",
        "####학습과정 \n",
        "\n",
        "에이전트가 특정상태에서 특정행동을 했을 때 보상을 받게되고 에이전트는 이 보상 정보를 통해 학습을 진행한다. 이 과정을 끝까지 하게 되면 하나의 에피소드가 끝나게된다. 에피소드가 끝나게되면 에이전트가 지나왔던 상태에서 했던 행동에 대한 모든 정보를 기록,분석하여 다음 에피소드에 대한 의사결정을 하게 되는 과정을 반복하는 것을 학습이라고 한다.\n",
        "\n",
        "학습방식에는 탐험과 활용이 존재하며 이를 적절한 비율로 수행하게 하는 것이 효율적인 강화학습을 이룰 수 있다.\n",
        "\n",
        "\n",
        "[강화학습에 대한 심화 이해](https://brunch.co.kr/@kakao-it/73)\n",
        "\n",
        "### 과적합\n",
        ": 과적합(Over fitting) 머신런닝 중 학습데이터를 과하게 학습하는 것을 말한다. 예를 들어 머신런닝 학습과정 중 데이터와 학습 데이터의 정확성을 올리기 위해 입력값으 차수를 늘리게 되면 학습모델과 학습데이터는 일치 할 수 있으나 미래의 예측값은 크게 벗어 날 수 있게 되는 문제이다.\n",
        "\n",
        "\n",
        "<[과적합](https://untitledtblog.tistory.com/68)>\n",
        "\n",
        "### 차원의 저주\n",
        ": 머신런닝의 학습을 위하 고정된 크기의 훈련데이터셋 차원이 늘어남에 따라 특성공간이 점점 희소해 지는 현상을 말한다.\n",
        "\n",
        " 즉,학습모델의 정확도를 늘리기 위해서 고차원의 데이터를 준비할 수록 그 데이터모델의 학습능력이 떨어지고 더 많은 데이터양이 필요해지는 딜레마를 격게되는 것이다.\n",
        "\n",
        " 이러한 문제를 해결하기 위해 올바른 변수를 선택하거나 차원축소기법을 사용한다.\n",
        "\n",
        " [차원의저주]<http://thesciencelife.com/archives/1001>\n",
        "\n",
        "\n"
      ]
    },
    {
      "cell_type": "markdown",
      "metadata": {
        "id": "d-zfFXLCy6jD",
        "colab_type": "text"
      },
      "source": [
        "## 2. 딥러닝 강의 클론 코딩\n",
        "\n",
        "####__퍼셉트론 구조 구현하기__ \n",
        "딥러닝 강의(__딥러닝 원리[1] 3:15 ~ 5:15 부분__)를 보고 코드를 따라 치며 출력 결과를 만드세요.\n",
        " \n",
        "\n",
        "* 하나의 코드셀에 해당 코드를 한번에 다 적어서 실행해주세요 (__그렇게 하지 않을 경우, 아래 이미지와 같은 출력값이 나오지 않을 수 있습니다__)\n",
        "\n",
        "*__주의!__ 실제로 코딩해서 출력해보면 강의에 나온 출력 결과와 다르게 나옵니다!!\n"
      ]
    },
    {
      "cell_type": "markdown",
      "metadata": {
        "id": "wcc5mzI9oZ7r",
        "colab_type": "text"
      },
      "source": [
        "![대체 텍스트](https://www.notion.so/image/https%3A%2F%2Fs3-us-west-2.amazonaws.com%2Fsecure.notion-static.com%2F0cceeed0-0235-4b0f-af88-0b8c377d5b4b%2F_2020-06-09__9.35.23.png?table=block&id=88fd8912-9356-49a4-9fda-a1a63fe96ea9&width=2870&cache=v2)"
      ]
    },
    {
      "cell_type": "code",
      "metadata": {
        "id": "ByeKDuzHZcgN",
        "colab_type": "code",
        "outputId": "fa238a01-4678-469d-fdc4-15c98bc52b45",
        "colab": {
          "base_uri": "https://localhost:8080/",
          "height": 194
        }
      },
      "source": [
        "import tensorflow as tf\n",
        "tf.compat.v1.set_random_seed(2020)\n",
        "x=1\n",
        "y=0\n",
        "w=tf.random.normal([1],0,1)\n",
        "\n",
        "\n",
        "import math\n",
        "def sigmoid(x):\n",
        "  return 1/(1+math.exp(-x))\n",
        "\n",
        "output = sigmoid(x*w)\n",
        "\n",
        "for i in range(1000):\n",
        "  output=sigmoid(x*w)\n",
        "  error=y-output\n",
        "  w=w+x*0.1*error\n",
        "\n",
        "  \n",
        "  if i % 100 == 99:\n",
        "    print(\"학습횟수:\",i, \"Error:\",error, \"예측결과:\", output)"
      ],
      "execution_count": 1,
      "outputs": [
        {
          "output_type": "stream",
          "text": [
            "학습횟수: 99 Error: -0.10010598284299604 예측결과: 0.10010598284299604\n",
            "학습횟수: 199 Error: -0.05178399422833116 예측결과: 0.05178399422833116\n",
            "학습횟수: 299 Error: -0.034590451977903586 예측결과: 0.034590451977903586\n",
            "학습횟수: 399 Error: -0.02588962752851373 예측결과: 0.02588962752851373\n",
            "학습횟수: 499 Error: -0.020658699939863617 예측결과: 0.020658699939863617\n",
            "학습횟수: 599 Error: -0.017174253993457355 예측결과: 0.017174253993457355\n",
            "학습횟수: 699 Error: -0.014689506449480992 예측결과: 0.014689506449480992\n",
            "학습횟수: 799 Error: -0.012829497265431342 예측결과: 0.012829497265431342\n",
            "학습횟수: 899 Error: -0.011385568271837804 예측결과: 0.011385568271837804\n",
            "학습횟수: 999 Error: -0.010232493309882492 예측결과: 0.010232493309882492\n"
          ],
          "name": "stdout"
        }
      ]
    },
    {
      "cell_type": "markdown",
      "metadata": {
        "id": "kr0HVRk8fOom",
        "colab_type": "text"
      },
      "source": [
        "## 3. 딥러닝 순전파 & 역전파 계산\n",
        "\n",
        "딥러닝 강의(__딥러닝 원리[2] 0:55 ~ 4:32 부분__)에 나오는 순전파 & 역전파 계산에 대한 문제 입니다.\n",
        "\n",
        "해당 영상과 다음 이미지를 참고하여 다음 2가지 물음에 답하세요.\n",
        "\n",
        "\n",
        "(1) 학습률이 0.2 일 경우 출력층의 노드값\n",
        "\n",
        "(2) 학습률이 0.1과 0.2 중 기대출력값이 지도데이터 \"3\"과 더 가까운 학습률은?"
      ]
    },
    {
      "cell_type": "markdown",
      "metadata": {
        "id": "CpwPFWhOUzww",
        "colab_type": "text"
      },
      "source": [
        "![대체 텍스트](https://www.notion.so/image/https%3A%2F%2Fs3-us-west-2.amazonaws.com%2Fsecure.notion-static.com%2Ff54dfd45-92ec-44ae-9616-6949d2484a45%2F_2020-06-10__5.22.03.png?table=block&id=ee05da89-3ceb-4ad9-a2d3-c9f68d24d1d9&width=3580&cache=v2)"
      ]
    },
    {
      "cell_type": "markdown",
      "metadata": {
        "id": "B2OVY7w5U3CI",
        "colab_type": "text"
      },
      "source": [
        "## (1) 학습률이 0.2 일 경우 출력층의 노드값 : 1.6\n",
        "## (2) 학습률이 0.1과 0.2 중 기대출력값이 지도데이터 \"3\"과 더 가까운 학습률은? : 0.1"
      ]
    },
    {
      "cell_type": "code",
      "metadata": {
        "id": "BgavfvqiWxBU",
        "colab_type": "code",
        "colab": {}
      },
      "source": [
        ""
      ],
      "execution_count": 0,
      "outputs": []
    }
  ]
}